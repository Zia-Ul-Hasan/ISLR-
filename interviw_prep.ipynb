{
  "nbformat": 4,
  "nbformat_minor": 0,
  "metadata": {
    "colab": {
      "provenance": [],
      "authorship_tag": "ABX9TyO9QUXVtIwyFGejUM6GE9su",
      "include_colab_link": true
    },
    "kernelspec": {
      "name": "python3",
      "display_name": "Python 3"
    },
    "language_info": {
      "name": "python"
    }
  },
  "cells": [
    {
      "cell_type": "markdown",
      "metadata": {
        "id": "view-in-github",
        "colab_type": "text"
      },
      "source": [
        "<a href=\"https://colab.research.google.com/github/Zia-Ul-Hasan/ISLR-/blob/main/interviw_prep.ipynb\" target=\"_parent\"><img src=\"https://colab.research.google.com/assets/colab-badge.svg\" alt=\"Open In Colab\"/></a>"
      ]
    },
    {
      "cell_type": "markdown",
      "source": [
        "LIST\n"
      ],
      "metadata": {
        "id": "gY6HR_kbFfqS"
      }
    },
    {
      "cell_type": "code",
      "execution_count": 2,
      "metadata": {
        "colab": {
          "base_uri": "https://localhost:8080/"
        },
        "id": "-QePp0ZpFK41",
        "outputId": "1b8a337c-95b8-4a95-9cd5-d55f625944f0"
      },
      "outputs": [
        {
          "output_type": "stream",
          "name": "stdout",
          "text": [
            "yes\n"
          ]
        }
      ],
      "source": [
        "list1 = ['apple','banaan','23']\n",
        "\n",
        "if 'apple' in list1:\n",
        "  print('yes')\n",
        "\n"
      ]
    },
    {
      "cell_type": "code",
      "source": [
        "print(list1[-3])"
      ],
      "metadata": {
        "colab": {
          "base_uri": "https://localhost:8080/"
        },
        "id": "buH7TNyWFqj0",
        "outputId": "c1f682b7-daf8-4e80-a8ff-1ed0435775fa"
      },
      "execution_count": 3,
      "outputs": [
        {
          "output_type": "stream",
          "name": "stdout",
          "text": [
            "apple\n"
          ]
        }
      ]
    },
    {
      "cell_type": "code",
      "source": [
        "len(list1)"
      ],
      "metadata": {
        "colab": {
          "base_uri": "https://localhost:8080/"
        },
        "id": "l2tpxt2lF-f7",
        "outputId": "b214a20d-aaca-4729-c35b-a9d1b89ae808"
      },
      "execution_count": 4,
      "outputs": [
        {
          "output_type": "execute_result",
          "data": {
            "text/plain": [
              "3"
            ]
          },
          "metadata": {},
          "execution_count": 4
        }
      ]
    },
    {
      "cell_type": "code",
      "source": [
        "list1.append('monkey')\n",
        "list1.insert(4, 'not monkey')\n",
        "list1"
      ],
      "metadata": {
        "colab": {
          "base_uri": "https://localhost:8080/"
        },
        "id": "FphWTY_OGBWb",
        "outputId": "05988097-aa6e-48a0-a30f-6e0fa703520b"
      },
      "execution_count": 5,
      "outputs": [
        {
          "output_type": "execute_result",
          "data": {
            "text/plain": [
              "['apple', 'banaan', '23', 'monkey', 'not monkey']"
            ]
          },
          "metadata": {},
          "execution_count": 5
        }
      ]
    },
    {
      "cell_type": "code",
      "source": [
        "list1.pop(0)"
      ],
      "metadata": {
        "colab": {
          "base_uri": "https://localhost:8080/",
          "height": 35
        },
        "id": "AoNccAFRGG1c",
        "outputId": "1b8cbaf0-b0de-4f6f-cabb-9a24ecdbd7f3"
      },
      "execution_count": 6,
      "outputs": [
        {
          "output_type": "execute_result",
          "data": {
            "text/plain": [
              "'apple'"
            ],
            "application/vnd.google.colaboratory.intrinsic+json": {
              "type": "string"
            }
          },
          "metadata": {},
          "execution_count": 6
        }
      ]
    },
    {
      "cell_type": "code",
      "source": [
        "list1"
      ],
      "metadata": {
        "colab": {
          "base_uri": "https://localhost:8080/"
        },
        "id": "o5UVLvt2Gedq",
        "outputId": "4bb824f0-9660-4c89-ed61-59a833ea1b98"
      },
      "execution_count": 7,
      "outputs": [
        {
          "output_type": "execute_result",
          "data": {
            "text/plain": [
              "['banaan', '23', 'monkey', 'not monkey']"
            ]
          },
          "metadata": {},
          "execution_count": 7
        }
      ]
    },
    {
      "cell_type": "code",
      "source": [
        "list1.sort()\n",
        "print(list1)\n",
        "list1.reverse()\n",
        "print(list1)"
      ],
      "metadata": {
        "colab": {
          "base_uri": "https://localhost:8080/"
        },
        "id": "qnPpjV6jGt3K",
        "outputId": "53644ffe-e09a-478a-f3ee-1d3361b05c17"
      },
      "execution_count": 8,
      "outputs": [
        {
          "output_type": "stream",
          "name": "stdout",
          "text": [
            "['23', 'banaan', 'monkey', 'not monkey']\n",
            "['not monkey', 'monkey', 'banaan', '23']\n"
          ]
        }
      ]
    },
    {
      "cell_type": "code",
      "source": [
        "list1.remove('23')\n",
        "list1"
      ],
      "metadata": {
        "colab": {
          "base_uri": "https://localhost:8080/"
        },
        "id": "l9g2zhgIHAwc",
        "outputId": "982a9856-2058-4fee-bd8d-3f37a9404795"
      },
      "execution_count": 9,
      "outputs": [
        {
          "output_type": "execute_result",
          "data": {
            "text/plain": [
              "['not monkey', 'monkey', 'banaan']"
            ]
          },
          "metadata": {},
          "execution_count": 9
        }
      ]
    },
    {
      "cell_type": "code",
      "source": [
        "list_num = [1,2,3,4,5,6,7,8]\n",
        "new_list = list_num[0:-1:3]\n",
        "print(new_list)\n",
        "new_list = list_num[::-1]\n",
        "print(new_list)"
      ],
      "metadata": {
        "colab": {
          "base_uri": "https://localhost:8080/"
        },
        "id": "6ejCW_l1HHsy",
        "outputId": "7426e3fd-b95e-4d0c-b272-750e470a0270"
      },
      "execution_count": 10,
      "outputs": [
        {
          "output_type": "stream",
          "name": "stdout",
          "text": [
            "[1, 4, 7]\n",
            "[8, 7, 6, 5, 4, 3, 2, 1]\n"
          ]
        }
      ]
    },
    {
      "cell_type": "code",
      "source": [
        "print(list_num)\n",
        "list_n=list_num\n",
        "print(list_n)\n",
        "list_n.append('lemon')\n",
        "print(list_n)\n",
        "print(list_num)\n",
        "list_num.pop()\n",
        "list_n2= list_num.copy()\n",
        "list_n2.append('lemon')\n",
        "print(list_n2)\n",
        "print(list_num)"
      ],
      "metadata": {
        "colab": {
          "base_uri": "https://localhost:8080/"
        },
        "id": "rclzVDiNH8wL",
        "outputId": "7d9e4660-cb5e-410a-c68a-f30c9c6953b5"
      },
      "execution_count": 11,
      "outputs": [
        {
          "output_type": "stream",
          "name": "stdout",
          "text": [
            "[1, 2, 3, 4, 5, 6, 7, 8]\n",
            "[1, 2, 3, 4, 5, 6, 7, 8]\n",
            "[1, 2, 3, 4, 5, 6, 7, 8, 'lemon']\n",
            "[1, 2, 3, 4, 5, 6, 7, 8, 'lemon']\n",
            "[1, 2, 3, 4, 5, 6, 7, 8, 'lemon']\n",
            "[1, 2, 3, 4, 5, 6, 7, 8]\n"
          ]
        }
      ]
    },
    {
      "cell_type": "markdown",
      "source": [
        "list comprehension"
      ],
      "metadata": {
        "id": "6TbP627bLyii"
      }
    },
    {
      "cell_type": "code",
      "source": [
        "LIST= [1,2,3,4,5,6,7,8,9,10]\n",
        "\n",
        "squared_list = [i*i for i in LIST]\n",
        "squared_list"
      ],
      "metadata": {
        "colab": {
          "base_uri": "https://localhost:8080/"
        },
        "id": "acBxMb3mKktZ",
        "outputId": "458cffc4-71d5-43a5-8f17-723620082688"
      },
      "execution_count": 12,
      "outputs": [
        {
          "output_type": "execute_result",
          "data": {
            "text/plain": [
              "[1, 4, 9, 16, 25, 36, 49, 64, 81, 100]"
            ]
          },
          "metadata": {},
          "execution_count": 12
        }
      ]
    },
    {
      "cell_type": "code",
      "source": [
        "squared_list[0]=99\n",
        "squared_list"
      ],
      "metadata": {
        "id": "bVOuXd4NMLg5",
        "colab": {
          "base_uri": "https://localhost:8080/"
        },
        "outputId": "6bc318cf-6a86-4df5-cd51-2677489b79e3"
      },
      "execution_count": 13,
      "outputs": [
        {
          "output_type": "execute_result",
          "data": {
            "text/plain": [
              "[99, 4, 9, 16, 25, 36, 49, 64, 81, 100]"
            ]
          },
          "metadata": {},
          "execution_count": 13
        }
      ]
    },
    {
      "cell_type": "markdown",
      "source": [
        "TUPPLES\n"
      ],
      "metadata": {
        "id": "D0q2zaUiMSkR"
      }
    },
    {
      "cell_type": "code",
      "source": [
        "nums = (1,2,3,4,5,6,7,8,9,10)\n",
        "print(type(nums))\n",
        "tup = 1,\n",
        "print(type(tup))\n",
        "tupless= tuple(['zia','zia', 0, 'james',12,9])\n",
        "print(type(tupless))"
      ],
      "metadata": {
        "colab": {
          "base_uri": "https://localhost:8080/"
        },
        "id": "2DERcnfHMYxg",
        "outputId": "d68e0934-8f93-451f-dadf-9d419bb6f9f8"
      },
      "execution_count": 14,
      "outputs": [
        {
          "output_type": "stream",
          "name": "stdout",
          "text": [
            "<class 'tuple'>\n",
            "<class 'tuple'>\n",
            "<class 'tuple'>\n"
          ]
        }
      ]
    },
    {
      "cell_type": "code",
      "source": [
        "if  'zia' in tupless:\n",
        "  print('zia')\n",
        "\n",
        "print(tupless)"
      ],
      "metadata": {
        "id": "3zttGQteMwT7",
        "colab": {
          "base_uri": "https://localhost:8080/"
        },
        "outputId": "412b42b5-a511-4331-896a-627bc5ab1de5"
      },
      "execution_count": 15,
      "outputs": [
        {
          "output_type": "stream",
          "name": "stdout",
          "text": [
            "zia\n",
            "('zia', 'zia', 0, 'james', 12, 9)\n"
          ]
        }
      ]
    },
    {
      "cell_type": "code",
      "source": [
        "len(tupless)"
      ],
      "metadata": {
        "colab": {
          "base_uri": "https://localhost:8080/"
        },
        "id": "c_N3Nl-QYMrS",
        "outputId": "68557abe-e8d6-44dc-99c3-413721a3dc23"
      },
      "execution_count": 16,
      "outputs": [
        {
          "output_type": "execute_result",
          "data": {
            "text/plain": [
              "6"
            ]
          },
          "metadata": {},
          "execution_count": 16
        }
      ]
    },
    {
      "cell_type": "code",
      "source": [
        "print(tupless.count('zia'))\n",
        "print(tupless.index ('zia'))"
      ],
      "metadata": {
        "id": "5q2Y-hTpZfHC",
        "colab": {
          "base_uri": "https://localhost:8080/"
        },
        "outputId": "fd200f33-79e7-4206-9506-3cc56eefb18b"
      },
      "execution_count": 17,
      "outputs": [
        {
          "output_type": "stream",
          "name": "stdout",
          "text": [
            "2\n",
            "0\n"
          ]
        }
      ]
    },
    {
      "cell_type": "code",
      "source": [
        "print(tupless)\n",
        "print(type(tupless))\n",
        "tuple_list= list(tupless)"
      ],
      "metadata": {
        "colab": {
          "base_uri": "https://localhost:8080/"
        },
        "id": "BneIzpo9scYp",
        "outputId": "4970f923-2384-4a45-c3fc-9bd9b2ea0147"
      },
      "execution_count": 18,
      "outputs": [
        {
          "output_type": "stream",
          "name": "stdout",
          "text": [
            "('zia', 'zia', 0, 'james', 12, 9)\n",
            "<class 'tuple'>\n"
          ]
        }
      ]
    },
    {
      "cell_type": "code",
      "source": [
        "z_tupless=tupless[0:5:2]\n",
        "print(z_tupless)"
      ],
      "metadata": {
        "colab": {
          "base_uri": "https://localhost:8080/"
        },
        "id": "hMansFNjs1lZ",
        "outputId": "d9967ee8-61ed-45ca-c71e-eb1559e10247"
      },
      "execution_count": 19,
      "outputs": [
        {
          "output_type": "stream",
          "name": "stdout",
          "text": [
            "('zia', 0, 12)\n"
          ]
        }
      ]
    },
    {
      "cell_type": "code",
      "source": [
        "name, cc , twin= z_tupless\n",
        "print(name)\n",
        "print(cc)\n",
        "print(twin)\n"
      ],
      "metadata": {
        "colab": {
          "base_uri": "https://localhost:8080/"
        },
        "id": "KAvpWDTGuT-5",
        "outputId": "b73b5965-066a-40b5-cff9-e6090cbc9480"
      },
      "execution_count": 20,
      "outputs": [
        {
          "output_type": "stream",
          "name": "stdout",
          "text": [
            "zia\n",
            "0\n",
            "12\n"
          ]
        }
      ]
    },
    {
      "cell_type": "code",
      "source": [
        "i1,*i2,i3= tupless\n",
        "print(i1)\n",
        "print(i2)\n",
        "print(i3)\n"
      ],
      "metadata": {
        "colab": {
          "base_uri": "https://localhost:8080/"
        },
        "id": "aeqJf-cMumiJ",
        "outputId": "107b355a-ebc2-492c-aa9c-0ca9ba808891"
      },
      "execution_count": 21,
      "outputs": [
        {
          "output_type": "stream",
          "name": "stdout",
          "text": [
            "zia\n",
            "['zia', 0, 'james', 12]\n",
            "9\n"
          ]
        }
      ]
    },
    {
      "cell_type": "code",
      "source": [
        "i2= tuple(i2)\n",
        "type(i2)"
      ],
      "metadata": {
        "colab": {
          "base_uri": "https://localhost:8080/"
        },
        "id": "ycKTs4RMvOVQ",
        "outputId": "23cfb02b-5b91-4164-efda-5b2d4e54cdf4"
      },
      "execution_count": 22,
      "outputs": [
        {
          "output_type": "execute_result",
          "data": {
            "text/plain": [
              "tuple"
            ]
          },
          "metadata": {},
          "execution_count": 22
        }
      ]
    },
    {
      "cell_type": "code",
      "source": [],
      "metadata": {
        "id": "ZfAyyM4pvUUB"
      },
      "execution_count": 22,
      "outputs": []
    },
    {
      "cell_type": "markdown",
      "source": [
        "**DICTIONARIES**"
      ],
      "metadata": {
        "id": "4o9_jjKivtUD"
      }
    },
    {
      "cell_type": "code",
      "source": [
        "mydict={'name':'zia', 'age':22, 'car':'no', }\n",
        "print (mydict)\n",
        "mydict[\"house\"]='yes'\n",
        "print(mydict)\n",
        "del mydict['car']\n",
        "print(mydict)\n"
      ],
      "metadata": {
        "colab": {
          "base_uri": "https://localhost:8080/"
        },
        "id": "2oqG2_eUv6IZ",
        "outputId": "d7661d94-2a6d-4ba9-b87c-230232d54c25"
      },
      "execution_count": 23,
      "outputs": [
        {
          "output_type": "stream",
          "name": "stdout",
          "text": [
            "{'name': 'zia', 'age': 22, 'car': 'no'}\n",
            "{'name': 'zia', 'age': 22, 'car': 'no', 'house': 'yes'}\n",
            "{'name': 'zia', 'age': 22, 'house': 'yes'}\n"
          ]
        }
      ]
    },
    {
      "cell_type": "code",
      "source": [
        "mydict.popitem()\n",
        "print(mydict)"
      ],
      "metadata": {
        "colab": {
          "base_uri": "https://localhost:8080/"
        },
        "id": "F5gvBhxFyFki",
        "outputId": "0719372b-9373-47a7-90ab-38ad619a91c7"
      },
      "execution_count": 24,
      "outputs": [
        {
          "output_type": "stream",
          "name": "stdout",
          "text": [
            "{'name': 'zia', 'age': 22}\n"
          ]
        }
      ]
    },
    {
      "cell_type": "code",
      "source": [
        "for key in mydict.keys():\n",
        "  print (key)\n",
        "for value in mydict.values():\n",
        "  print(value)\n",
        "for key,value in mydict.items():\n",
        "  print(key,value)\n"
      ],
      "metadata": {
        "colab": {
          "base_uri": "https://localhost:8080/"
        },
        "id": "4do0hKdzy6Uc",
        "outputId": "57e2e1ef-fae4-456a-b240-9b4ca5720915"
      },
      "execution_count": 25,
      "outputs": [
        {
          "output_type": "stream",
          "name": "stdout",
          "text": [
            "name\n",
            "age\n",
            "zia\n",
            "22\n",
            "name zia\n",
            "age 22\n"
          ]
        }
      ]
    },
    {
      "cell_type": "code",
      "source": [
        "mydict2 = dict(name='faiz', age=17,email='fazi@gmail')\n",
        "print(mydict2)\n",
        "print(mydict)\n",
        "mydict.update(mydict2)\n",
        "print(mydict)"
      ],
      "metadata": {
        "colab": {
          "base_uri": "https://localhost:8080/"
        },
        "id": "fv-QADkdz1AJ",
        "outputId": "ef33a858-71b3-4d01-855b-fcccb60707bc"
      },
      "execution_count": 26,
      "outputs": [
        {
          "output_type": "stream",
          "name": "stdout",
          "text": [
            "{'name': 'faiz', 'age': 17, 'email': 'fazi@gmail'}\n",
            "{'name': 'zia', 'age': 22}\n",
            "{'name': 'faiz', 'age': 17, 'email': 'fazi@gmail'}\n"
          ]
        }
      ]
    },
    {
      "cell_type": "code",
      "source": [
        "name_tup= 'max','zain'\n",
        "print(type(name_tup))\n",
        "mydict={name_tup:12}\n",
        "mydict"
      ],
      "metadata": {
        "colab": {
          "base_uri": "https://localhost:8080/"
        },
        "id": "Df3H32NU34LJ",
        "outputId": "2aa5b70e-17ce-4fc1-8381-4ac3a5385d9a"
      },
      "execution_count": 27,
      "outputs": [
        {
          "output_type": "stream",
          "name": "stdout",
          "text": [
            "<class 'tuple'>\n"
          ]
        },
        {
          "output_type": "execute_result",
          "data": {
            "text/plain": [
              "{('max', 'zain'): 12}"
            ]
          },
          "metadata": {},
          "execution_count": 27
        }
      ]
    },
    {
      "cell_type": "markdown",
      "source": [
        "**SETS**"
      ],
      "metadata": {
        "id": "XqRgCLe7-b3G"
      }
    },
    {
      "cell_type": "code",
      "source": [
        "myset = set('hello')\n",
        "myset2 =set(['h','e','l','l','o'])\n",
        "notmyset= set([1,2,3,'zia'])\n",
        "print(type(myset))\n",
        "print(type(notmyset))\n",
        "print(myset)\n",
        "print(myset2)"
      ],
      "metadata": {
        "colab": {
          "base_uri": "https://localhost:8080/"
        },
        "id": "IvSbPqvp81YK",
        "outputId": "91177a4b-caea-4e04-b97e-d7ad8c592ef9"
      },
      "execution_count": 28,
      "outputs": [
        {
          "output_type": "stream",
          "name": "stdout",
          "text": [
            "<class 'set'>\n",
            "<class 'set'>\n",
            "{'o', 'e', 'l', 'h'}\n",
            "{'o', 'e', 'l', 'h'}\n"
          ]
        }
      ]
    },
    {
      "cell_type": "code",
      "source": [
        "myset.add(1)\n",
        "print(myset)\n",
        "myset.discard(1)\n",
        "print(myset)\n",
        "myset.add(1)\n",
        "print(myset)\n",
        "myset.pop()\n",
        "print(myset)"
      ],
      "metadata": {
        "colab": {
          "base_uri": "https://localhost:8080/"
        },
        "id": "vl8PFDb2_mka",
        "outputId": "463d527f-33cb-4869-cf80-54f2e710a019"
      },
      "execution_count": 29,
      "outputs": [
        {
          "output_type": "stream",
          "name": "stdout",
          "text": [
            "{1, 'o', 'h', 'e', 'l'}\n",
            "{'o', 'h', 'e', 'l'}\n",
            "{1, 'o', 'h', 'e', 'l'}\n",
            "{'o', 'h', 'e', 'l'}\n"
          ]
        }
      ]
    },
    {
      "cell_type": "code",
      "source": [
        "try:\n",
        "  if 'l' in myset:\n",
        "    print('noops')\n",
        "except:\n",
        "  print('oops')"
      ],
      "metadata": {
        "colab": {
          "base_uri": "https://localhost:8080/"
        },
        "id": "TiqO-iEiB0wS",
        "outputId": "90d98417-5c3b-4d49-ef95-acac1746582e"
      },
      "execution_count": 30,
      "outputs": [
        {
          "output_type": "stream",
          "name": "stdout",
          "text": [
            "noops\n"
          ]
        }
      ]
    },
    {
      "cell_type": "code",
      "source": [
        "odds={1,3,5,7,9}\n",
        "evens={2,4,6,8}\n",
        "prime={2,3,5,7}\n",
        "\n",
        "\n",
        "unions=evens.union(odds)\n",
        "print(unions)\n",
        "inter= evens.intersection(prime)\n",
        "print(inter)\n",
        "diff=odds.difference(prime)\n",
        "print(diff)\n",
        "sym_diff=odds.symmetric_difference(prime)\n",
        "print(sym_diff)"
      ],
      "metadata": {
        "colab": {
          "base_uri": "https://localhost:8080/"
        },
        "id": "6FTeFKbvEF8t",
        "outputId": "07c5e180-5905-40f9-9857-babbe55dadab"
      },
      "execution_count": 31,
      "outputs": [
        {
          "output_type": "stream",
          "name": "stdout",
          "text": [
            "{1, 2, 3, 4, 5, 6, 7, 8, 9}\n",
            "{2}\n",
            "{1, 9}\n",
            "{1, 2, 9}\n"
          ]
        }
      ]
    },
    {
      "cell_type": "code",
      "source": [
        "all= set()\n",
        "all"
      ],
      "metadata": {
        "colab": {
          "base_uri": "https://localhost:8080/"
        },
        "id": "NIxSxxdxFBvs",
        "outputId": "65bd0f52-43f6-4591-eb60-d6ab81309b98"
      },
      "execution_count": 32,
      "outputs": [
        {
          "output_type": "execute_result",
          "data": {
            "text/plain": [
              "set()"
            ]
          },
          "metadata": {},
          "execution_count": 32
        }
      ]
    },
    {
      "cell_type": "code",
      "source": [
        "all.update(odds)\n",
        "print(all)\n",
        "all.update(evens)\n",
        "print(all)\n",
        "all.intersection_update(prime)\n",
        "print(all)"
      ],
      "metadata": {
        "colab": {
          "base_uri": "https://localhost:8080/"
        },
        "id": "nlHxCbTLHfIM",
        "outputId": "015e46ba-d9cb-42fe-bc55-3c3ee5357a43"
      },
      "execution_count": 33,
      "outputs": [
        {
          "output_type": "stream",
          "name": "stdout",
          "text": [
            "{1, 3, 5, 7, 9}\n",
            "{1, 2, 3, 4, 5, 6, 7, 8, 9}\n",
            "{2, 3, 5, 7}\n"
          ]
        }
      ]
    },
    {
      "cell_type": "code",
      "source": [
        "all.update(odds)\n",
        "print(all)\n",
        "all.update(evens)\n",
        "print(all)\n",
        "\n",
        "print(all.issubset(evens))\n",
        "print(all.issuperset(evens))"
      ],
      "metadata": {
        "colab": {
          "base_uri": "https://localhost:8080/"
        },
        "id": "U_MUFLU2HtMR",
        "outputId": "3b0bc998-18af-42d1-9a18-62adf761515e"
      },
      "execution_count": 34,
      "outputs": [
        {
          "output_type": "stream",
          "name": "stdout",
          "text": [
            "{1, 2, 3, 5, 7, 9}\n",
            "{1, 2, 3, 4, 5, 6, 7, 8, 9}\n",
            "False\n",
            "True\n"
          ]
        }
      ]
    },
    {
      "cell_type": "markdown",
      "source": [
        "**STRINGS**"
      ],
      "metadata": {
        "id": "InmS_bq1VUpi"
      }
    },
    {
      "cell_type": "code",
      "source": [
        "my_strings=\"\"\"     hello zia\"\"\"\n",
        "\n",
        "print(my_strings)\n",
        "my_strings=my_strings.strip()\n",
        "print(my_strings)\n",
        "print(my_strings[0::2])\n",
        "my_strings=my_strings.strip()\n",
        "print(my_strings)\n",
        "my_strings=my_strings.upper()\n",
        "print(my_strings)\n",
        "my_strings=my_strings.lower()\n",
        "print(my_strings)\n"
      ],
      "metadata": {
        "colab": {
          "base_uri": "https://localhost:8080/"
        },
        "id": "p7pN6g8fIzdb",
        "outputId": "2bde367c-12b4-4120-e058-72a0a8c90364"
      },
      "execution_count": 35,
      "outputs": [
        {
          "output_type": "stream",
          "name": "stdout",
          "text": [
            "     hello zia\n",
            "hello zia\n",
            "hloza\n",
            "hello zia\n",
            "HELLO ZIA\n",
            "hello zia\n"
          ]
        }
      ]
    },
    {
      "cell_type": "code",
      "source": [
        "print(my_strings.startswith('hell'))\n",
        "print(my_strings.endswith('za'))\n",
        "print(my_strings.find('he'))\n",
        "print(my_strings.count('l'))\n",
        "print(my_strings.replace('hello','heaven'))\n",
        "\n",
        "\n"
      ],
      "metadata": {
        "colab": {
          "base_uri": "https://localhost:8080/"
        },
        "id": "JDZSoZZhWTmz",
        "outputId": "cef456d5-5c45-4f15-fffb-a41214c1d8b2"
      },
      "execution_count": 36,
      "outputs": [
        {
          "output_type": "stream",
          "name": "stdout",
          "text": [
            "True\n",
            "False\n",
            "0\n",
            "2\n",
            "heaven zia\n"
          ]
        }
      ]
    },
    {
      "cell_type": "code",
      "source": [
        "\n",
        "\n",
        "list_to_strirg=my_strings.split()\n",
        "list_to_strirg\n",
        "\n"
      ],
      "metadata": {
        "colab": {
          "base_uri": "https://localhost:8080/"
        },
        "id": "VfzTH_PIcOv7",
        "outputId": "c6dd7fb0-9fa2-46e5-f3fb-902ea2fb0654"
      },
      "execution_count": 37,
      "outputs": [
        {
          "output_type": "execute_result",
          "data": {
            "text/plain": [
              "['hello', 'zia']"
            ]
          },
          "metadata": {},
          "execution_count": 37
        }
      ]
    },
    {
      "cell_type": "code",
      "source": [
        "new_string= ' '.join(list_to_strirg)\n",
        "new_string"
      ],
      "metadata": {
        "colab": {
          "base_uri": "https://localhost:8080/",
          "height": 35
        },
        "id": "MkhaO33UhPRB",
        "outputId": "13889fb6-b2ec-4b8c-b129-0d4f06c77f5c"
      },
      "execution_count": 38,
      "outputs": [
        {
          "output_type": "execute_result",
          "data": {
            "text/plain": [
              "'hello zia'"
            ],
            "application/vnd.google.colaboratory.intrinsic+json": {
              "type": "string"
            }
          },
          "metadata": {},
          "execution_count": 38
        }
      ]
    },
    {
      "cell_type": "code",
      "source": [
        "var1 ='zia'\n",
        "var2= 3.1432\n",
        "m_string= f\"the vaiable is {var1} and with value {var2*2} \"\n",
        "print(m_string)"
      ],
      "metadata": {
        "colab": {
          "base_uri": "https://localhost:8080/"
        },
        "id": "rrzYrewqiCmr",
        "outputId": "73e08e62-af29-4637-a237-b51209f12376"
      },
      "execution_count": 39,
      "outputs": [
        {
          "output_type": "stream",
          "name": "stdout",
          "text": [
            "the vaiable is zia and with value 6.2864 \n"
          ]
        }
      ]
    },
    {
      "cell_type": "markdown",
      "source": [
        "**LAMBDA FUCNTIONS **"
      ],
      "metadata": {
        "id": "nUFrv6TcgAdP"
      }
    },
    {
      "cell_type": "code",
      "source": [
        "var =lambda x: x+10\n",
        "print(var(1))"
      ],
      "metadata": {
        "id": "Jk5_PUhqoDjT",
        "colab": {
          "base_uri": "https://localhost:8080/"
        },
        "outputId": "203f3fd2-1cd1-49f6-a475-4a05b25503de"
      },
      "execution_count": 42,
      "outputs": [
        {
          "output_type": "stream",
          "name": "stdout",
          "text": [
            "11\n"
          ]
        }
      ]
    },
    {
      "cell_type": "code",
      "source": [
        "points=[(1,5),(2,3),(3,4)]\n",
        "\n",
        "sort_point = sorted(points , key= lambda x:x[1])\n",
        "print(sort_point)"
      ],
      "metadata": {
        "colab": {
          "base_uri": "https://localhost:8080/"
        },
        "id": "MYbCGxv4gjSe",
        "outputId": "88a350ac-421a-4150-b828-07e6eb2ca763"
      },
      "execution_count": 45,
      "outputs": [
        {
          "output_type": "stream",
          "name": "stdout",
          "text": [
            "[(2, 3), (3, 4), (1, 5)]\n"
          ]
        }
      ]
    },
    {
      "cell_type": "code",
      "source": [
        "a=[1,2,3,4,5]\n",
        "b=map(lambda x:x*x,a )\n",
        "print(list(b))"
      ],
      "metadata": {
        "colab": {
          "base_uri": "https://localhost:8080/"
        },
        "id": "tMEvEOSXiTZ9",
        "outputId": "87ac7ea9-557f-43a6-bd7b-b53e847b875e"
      },
      "execution_count": 48,
      "outputs": [
        {
          "output_type": "stream",
          "name": "stdout",
          "text": [
            "[1, 4, 9, 16, 25]\n"
          ]
        }
      ]
    },
    {
      "cell_type": "code",
      "source": [
        "c= filter(lambda x: x%2==0 , a )\n",
        "print(list(c))"
      ],
      "metadata": {
        "colab": {
          "base_uri": "https://localhost:8080/"
        },
        "id": "0oU5nSEei1DB",
        "outputId": "e744e9d6-703f-4078-99fc-1b194ab4c3b1"
      },
      "execution_count": 54,
      "outputs": [
        {
          "output_type": "stream",
          "name": "stdout",
          "text": [
            "[2, 4]\n"
          ]
        }
      ]
    },
    {
      "cell_type": "markdown",
      "source": [
        "**RANDOM NUMBERS **"
      ],
      "metadata": {
        "id": "Xo7544k-khxV"
      }
    },
    {
      "cell_type": "code",
      "source": [
        "import random\n",
        "float_r = random.random()\n",
        "float_r\n",
        "float_r = random.uniform(7,9)\n",
        "float_r"
      ],
      "metadata": {
        "colab": {
          "base_uri": "https://localhost:8080/"
        },
        "id": "oC447YrWj4Em",
        "outputId": "34b7139c-c0d3-49ce-8f9e-70b44053176e"
      },
      "execution_count": 61,
      "outputs": [
        {
          "output_type": "execute_result",
          "data": {
            "text/plain": [
              "7.45719329803842"
            ]
          },
          "metadata": {},
          "execution_count": 61
        }
      ]
    },
    {
      "cell_type": "code",
      "source": [
        "int_r= random.randint(77,99)\n",
        "int_r"
      ],
      "metadata": {
        "colab": {
          "base_uri": "https://localhost:8080/"
        },
        "id": "JN46pVHMkxC1",
        "outputId": "18a37cb8-a63b-4da8-9dcb-f78452505d77"
      },
      "execution_count": 63,
      "outputs": [
        {
          "output_type": "execute_result",
          "data": {
            "text/plain": [
              "91"
            ]
          },
          "metadata": {},
          "execution_count": 63
        }
      ]
    },
    {
      "cell_type": "code",
      "source": [
        "nam_list=list('ziasufi')\n",
        "print(random.choices(nam_list,k=2))\n",
        "print(random.sample(nam_list,5))"
      ],
      "metadata": {
        "colab": {
          "base_uri": "https://localhost:8080/"
        },
        "id": "zmHBlNuFlNzS",
        "outputId": "76d00b16-5470-4aec-93ee-d4727493c2df"
      },
      "execution_count": 69,
      "outputs": [
        {
          "output_type": "stream",
          "name": "stdout",
          "text": [
            "['a', 'i']\n",
            "['i', 'a', 'z', 'i', 'f']\n"
          ]
        }
      ]
    },
    {
      "cell_type": "code",
      "source": [],
      "metadata": {
        "id": "1JVR2kbsllHB"
      },
      "execution_count": null,
      "outputs": []
    }
  ]
}