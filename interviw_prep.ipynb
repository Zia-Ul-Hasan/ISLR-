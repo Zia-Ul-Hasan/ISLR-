{
  "nbformat": 4,
  "nbformat_minor": 0,
  "metadata": {
    "colab": {
      "provenance": [],
      "authorship_tag": "ABX9TyMLQrDDpLk1J3nwBCCez+4y",
      "include_colab_link": true
    },
    "kernelspec": {
      "name": "python3",
      "display_name": "Python 3"
    },
    "language_info": {
      "name": "python"
    }
  },
  "cells": [
    {
      "cell_type": "markdown",
      "metadata": {
        "id": "view-in-github",
        "colab_type": "text"
      },
      "source": [
        "<a href=\"https://colab.research.google.com/github/Zia-Ul-Hasan/ISLR-/blob/main/interviw_prep.ipynb\" target=\"_parent\"><img src=\"https://colab.research.google.com/assets/colab-badge.svg\" alt=\"Open In Colab\"/></a>"
      ]
    },
    {
      "cell_type": "markdown",
      "source": [
        "LIST\n"
      ],
      "metadata": {
        "id": "gY6HR_kbFfqS"
      }
    },
    {
      "cell_type": "code",
      "execution_count": 1,
      "metadata": {
        "colab": {
          "base_uri": "https://localhost:8080/"
        },
        "id": "-QePp0ZpFK41",
        "outputId": "0caf8242-e7f6-4592-cead-8da9fea97af9"
      },
      "outputs": [
        {
          "output_type": "stream",
          "name": "stdout",
          "text": [
            "yes\n"
          ]
        }
      ],
      "source": [
        "list1 = ['apple','banaan','23']\n",
        "\n",
        "if 'apple' in list1:\n",
        "  print('yes')\n",
        "\n"
      ]
    },
    {
      "cell_type": "code",
      "source": [
        "print(list1[-3])"
      ],
      "metadata": {
        "colab": {
          "base_uri": "https://localhost:8080/"
        },
        "id": "buH7TNyWFqj0",
        "outputId": "2c4b24d9-8dee-4bbd-a560-8d79b7f8cb66"
      },
      "execution_count": 2,
      "outputs": [
        {
          "output_type": "stream",
          "name": "stdout",
          "text": [
            "apple\n"
          ]
        }
      ]
    },
    {
      "cell_type": "code",
      "source": [
        "len(list1)"
      ],
      "metadata": {
        "colab": {
          "base_uri": "https://localhost:8080/"
        },
        "id": "l2tpxt2lF-f7",
        "outputId": "78c58d2b-e4bc-4d30-f55f-30f5b9d87ccf"
      },
      "execution_count": 18,
      "outputs": [
        {
          "output_type": "execute_result",
          "data": {
            "text/plain": [
              "3"
            ]
          },
          "metadata": {},
          "execution_count": 18
        }
      ]
    },
    {
      "cell_type": "code",
      "source": [
        "list1.append('monkey')\n",
        "list1.insert(4, 'not monkey')\n",
        "list1"
      ],
      "metadata": {
        "colab": {
          "base_uri": "https://localhost:8080/"
        },
        "id": "FphWTY_OGBWb",
        "outputId": "5ff9af3d-c7b9-43a0-906a-421bdd8251f2"
      },
      "execution_count": 4,
      "outputs": [
        {
          "output_type": "execute_result",
          "data": {
            "text/plain": [
              "['apple', 'banaan', '23', 'monkey', 'not monkey']"
            ]
          },
          "metadata": {},
          "execution_count": 4
        }
      ]
    },
    {
      "cell_type": "code",
      "source": [
        "list1.pop(0)"
      ],
      "metadata": {
        "colab": {
          "base_uri": "https://localhost:8080/",
          "height": 35
        },
        "id": "AoNccAFRGG1c",
        "outputId": "1e063e2d-d664-4ca7-82e3-4ff3f42b23c7"
      },
      "execution_count": 5,
      "outputs": [
        {
          "output_type": "execute_result",
          "data": {
            "text/plain": [
              "'apple'"
            ],
            "application/vnd.google.colaboratory.intrinsic+json": {
              "type": "string"
            }
          },
          "metadata": {},
          "execution_count": 5
        }
      ]
    },
    {
      "cell_type": "code",
      "source": [
        "list1"
      ],
      "metadata": {
        "colab": {
          "base_uri": "https://localhost:8080/"
        },
        "id": "o5UVLvt2Gedq",
        "outputId": "3366c8d4-2462-40ab-8752-a4f1a220e2f1"
      },
      "execution_count": 6,
      "outputs": [
        {
          "output_type": "execute_result",
          "data": {
            "text/plain": [
              "['banaan', '23', 'monkey', 'not monkey']"
            ]
          },
          "metadata": {},
          "execution_count": 6
        }
      ]
    },
    {
      "cell_type": "code",
      "source": [
        "list1.sort()\n",
        "print(list1)\n",
        "list1.reverse()\n",
        "print(list1)"
      ],
      "metadata": {
        "colab": {
          "base_uri": "https://localhost:8080/"
        },
        "id": "qnPpjV6jGt3K",
        "outputId": "2287e995-4be8-4505-cb41-e10828dbb266"
      },
      "execution_count": 7,
      "outputs": [
        {
          "output_type": "stream",
          "name": "stdout",
          "text": [
            "['23', 'banaan', 'monkey', 'not monkey']\n",
            "['not monkey', 'monkey', 'banaan', '23']\n"
          ]
        }
      ]
    },
    {
      "cell_type": "code",
      "source": [
        "list1.remove('23')\n",
        "list1"
      ],
      "metadata": {
        "colab": {
          "base_uri": "https://localhost:8080/"
        },
        "id": "l9g2zhgIHAwc",
        "outputId": "4ec5e097-1804-41f8-f355-17fc163e5373"
      },
      "execution_count": 8,
      "outputs": [
        {
          "output_type": "execute_result",
          "data": {
            "text/plain": [
              "['not monkey', 'monkey', 'banaan']"
            ]
          },
          "metadata": {},
          "execution_count": 8
        }
      ]
    },
    {
      "cell_type": "code",
      "source": [
        "list_num = [1,2,3,4,5,6,7,8]\n",
        "new_list = list_num[0:-1:3]\n",
        "print(new_list)\n",
        "new_list = list_num[::-1]\n",
        "print(new_list)"
      ],
      "metadata": {
        "colab": {
          "base_uri": "https://localhost:8080/"
        },
        "id": "6ejCW_l1HHsy",
        "outputId": "2b1bd27b-f5a8-40eb-9685-cb9c7aa5e364"
      },
      "execution_count": 9,
      "outputs": [
        {
          "output_type": "stream",
          "name": "stdout",
          "text": [
            "[1, 4, 7]\n",
            "[8, 7, 6, 5, 4, 3, 2, 1]\n"
          ]
        }
      ]
    },
    {
      "cell_type": "code",
      "source": [
        "print(list_num)\n",
        "list_n=list_num\n",
        "print(list_n)\n",
        "list_n.append('lemon')\n",
        "print(list_n)\n",
        "print(list_num)\n",
        "list_num.pop()\n",
        "list_n2= list_num.copy()\n",
        "list_n2.append('lemon')\n",
        "print(list_n2)\n",
        "print(list_num)"
      ],
      "metadata": {
        "colab": {
          "base_uri": "https://localhost:8080/"
        },
        "id": "rclzVDiNH8wL",
        "outputId": "2b5744d7-6aaa-470e-c532-07132d3912c6"
      },
      "execution_count": 10,
      "outputs": [
        {
          "output_type": "stream",
          "name": "stdout",
          "text": [
            "[1, 2, 3, 4, 5, 6, 7, 8]\n",
            "[1, 2, 3, 4, 5, 6, 7, 8]\n",
            "[1, 2, 3, 4, 5, 6, 7, 8, 'lemon']\n",
            "[1, 2, 3, 4, 5, 6, 7, 8, 'lemon']\n",
            "[1, 2, 3, 4, 5, 6, 7, 8, 'lemon']\n",
            "[1, 2, 3, 4, 5, 6, 7, 8]\n"
          ]
        }
      ]
    },
    {
      "cell_type": "markdown",
      "source": [
        "list comprehension"
      ],
      "metadata": {
        "id": "6TbP627bLyii"
      }
    },
    {
      "cell_type": "code",
      "source": [
        "LIST= [1,2,3,4,5,6,7,8,9,10]\n",
        "\n",
        "squared_list = [i*i for i in LIST]\n",
        "squared_list"
      ],
      "metadata": {
        "colab": {
          "base_uri": "https://localhost:8080/"
        },
        "id": "acBxMb3mKktZ",
        "outputId": "495eff45-6262-4c02-c45d-7d0a05ca9b9f"
      },
      "execution_count": 11,
      "outputs": [
        {
          "output_type": "execute_result",
          "data": {
            "text/plain": [
              "[1, 4, 9, 16, 25, 36, 49, 64, 81, 100]"
            ]
          },
          "metadata": {},
          "execution_count": 11
        }
      ]
    },
    {
      "cell_type": "code",
      "source": [
        "squared_list[0]=99\n",
        "squared_list"
      ],
      "metadata": {
        "id": "bVOuXd4NMLg5",
        "colab": {
          "base_uri": "https://localhost:8080/"
        },
        "outputId": "712c397e-e8c6-4750-f755-2312859ff774"
      },
      "execution_count": 12,
      "outputs": [
        {
          "output_type": "execute_result",
          "data": {
            "text/plain": [
              "[99, 4, 9, 16, 25, 36, 49, 64, 81, 100]"
            ]
          },
          "metadata": {},
          "execution_count": 12
        }
      ]
    },
    {
      "cell_type": "markdown",
      "source": [
        "TUPPLES\n"
      ],
      "metadata": {
        "id": "D0q2zaUiMSkR"
      }
    },
    {
      "cell_type": "code",
      "source": [
        "nums = (1,2,3,4,5,6,7,8,9,10)\n",
        "print(type(nums))\n",
        "tup = 1,\n",
        "print(type(tup))\n",
        "tupless= tuple(['zia','zia', 0, 'james',12,9])\n",
        "print(type(tupless))"
      ],
      "metadata": {
        "colab": {
          "base_uri": "https://localhost:8080/"
        },
        "id": "2DERcnfHMYxg",
        "outputId": "3294dc16-2ea6-409b-f763-fa3e8407f9cc"
      },
      "execution_count": 13,
      "outputs": [
        {
          "output_type": "stream",
          "name": "stdout",
          "text": [
            "<class 'tuple'>\n",
            "<class 'tuple'>\n",
            "<class 'tuple'>\n"
          ]
        }
      ]
    },
    {
      "cell_type": "code",
      "source": [
        "if  'zia' in tupless:\n",
        "  print('zia')\n",
        "\n",
        "print(tupless)"
      ],
      "metadata": {
        "id": "3zttGQteMwT7",
        "colab": {
          "base_uri": "https://localhost:8080/"
        },
        "outputId": "4b0121ec-aa1f-4335-8c85-19a8e7332f8e"
      },
      "execution_count": 14,
      "outputs": [
        {
          "output_type": "stream",
          "name": "stdout",
          "text": [
            "zia\n",
            "('zia', 'zia', 0, 'james', 12, 9)\n"
          ]
        }
      ]
    },
    {
      "cell_type": "code",
      "source": [
        "len(tupless)"
      ],
      "metadata": {
        "colab": {
          "base_uri": "https://localhost:8080/"
        },
        "id": "c_N3Nl-QYMrS",
        "outputId": "92c56972-89ee-4900-e81b-f3e2a618482f"
      },
      "execution_count": 15,
      "outputs": [
        {
          "output_type": "execute_result",
          "data": {
            "text/plain": [
              "6"
            ]
          },
          "metadata": {},
          "execution_count": 15
        }
      ]
    },
    {
      "cell_type": "code",
      "source": [
        "print(tupless.count('zia'))\n",
        "print(tupless.index ('zia'))"
      ],
      "metadata": {
        "id": "5q2Y-hTpZfHC",
        "colab": {
          "base_uri": "https://localhost:8080/"
        },
        "outputId": "fc7543c6-65c7-4333-90d7-f3886b58b352"
      },
      "execution_count": 16,
      "outputs": [
        {
          "output_type": "stream",
          "name": "stdout",
          "text": [
            "2\n",
            "0\n"
          ]
        }
      ]
    },
    {
      "cell_type": "code",
      "source": [
        "print(tupless)\n",
        "print(type(tupless))\n",
        "tuple_list= list(tupless)"
      ],
      "metadata": {
        "colab": {
          "base_uri": "https://localhost:8080/"
        },
        "id": "BneIzpo9scYp",
        "outputId": "52ca25ef-5cef-4ca3-976c-a05be33e8141"
      },
      "execution_count": 17,
      "outputs": [
        {
          "output_type": "stream",
          "name": "stdout",
          "text": [
            "('zia', 'zia', 0, 'james', 12, 9)\n",
            "<class 'tuple'>\n"
          ]
        }
      ]
    },
    {
      "cell_type": "code",
      "source": [
        "z_tupless=tupless[0:5:2]\n",
        "print(z_tupless)"
      ],
      "metadata": {
        "colab": {
          "base_uri": "https://localhost:8080/"
        },
        "id": "hMansFNjs1lZ",
        "outputId": "6930e1fa-91a9-40ea-a67d-4b7c19f9215a"
      },
      "execution_count": 19,
      "outputs": [
        {
          "output_type": "stream",
          "name": "stdout",
          "text": [
            "('zia', 0, 12)\n"
          ]
        }
      ]
    },
    {
      "cell_type": "code",
      "source": [
        "name, cc , twin= z_tupless\n",
        "print(name)\n",
        "print(cc)\n",
        "print(twin)\n"
      ],
      "metadata": {
        "colab": {
          "base_uri": "https://localhost:8080/"
        },
        "id": "KAvpWDTGuT-5",
        "outputId": "37610bee-b502-454a-a5b2-7167ad97cb50"
      },
      "execution_count": 21,
      "outputs": [
        {
          "output_type": "stream",
          "name": "stdout",
          "text": [
            "zia\n",
            "0\n",
            "12\n"
          ]
        }
      ]
    },
    {
      "cell_type": "code",
      "source": [
        "i1,*i2,i3= tupless\n",
        "print(i1)\n",
        "print(i2)\n",
        "print(i3)\n"
      ],
      "metadata": {
        "colab": {
          "base_uri": "https://localhost:8080/"
        },
        "id": "aeqJf-cMumiJ",
        "outputId": "3539473d-c095-47e1-9c52-2268e083087b"
      },
      "execution_count": 22,
      "outputs": [
        {
          "output_type": "stream",
          "name": "stdout",
          "text": [
            "zia\n",
            "['zia', 0, 'james', 12]\n",
            "9\n"
          ]
        }
      ]
    },
    {
      "cell_type": "code",
      "source": [
        "i2= tuple(i2)\n",
        "type(i2)"
      ],
      "metadata": {
        "colab": {
          "base_uri": "https://localhost:8080/"
        },
        "id": "ycKTs4RMvOVQ",
        "outputId": "49b55b52-920c-47aa-ff7f-f403205aa342"
      },
      "execution_count": 24,
      "outputs": [
        {
          "output_type": "execute_result",
          "data": {
            "text/plain": [
              "tuple"
            ]
          },
          "metadata": {},
          "execution_count": 24
        }
      ]
    },
    {
      "cell_type": "code",
      "source": [],
      "metadata": {
        "id": "ZfAyyM4pvUUB"
      },
      "execution_count": null,
      "outputs": []
    },
    {
      "cell_type": "markdown",
      "source": [
        "**DICTIONARIES**"
      ],
      "metadata": {
        "id": "4o9_jjKivtUD"
      }
    },
    {
      "cell_type": "code",
      "source": [
        "mydict={'name':'zia', 'age':22, 'car':'no', }\n",
        "print (mydict)\n",
        "mydict[\"house\"]='yes'\n",
        "print(mydict)\n",
        "del mydict['car']\n",
        "print(mydict)\n"
      ],
      "metadata": {
        "colab": {
          "base_uri": "https://localhost:8080/"
        },
        "id": "2oqG2_eUv6IZ",
        "outputId": "54af5982-f246-4ab4-a9cc-622c891a8199"
      },
      "execution_count": 34,
      "outputs": [
        {
          "output_type": "stream",
          "name": "stdout",
          "text": [
            "{'name': 'zia', 'age': 22, 'car': 'no'}\n",
            "{'name': 'zia', 'age': 22, 'car': 'no', 'house': 'yes'}\n",
            "{'name': 'zia', 'age': 22, 'house': 'yes'}\n"
          ]
        }
      ]
    },
    {
      "cell_type": "code",
      "source": [
        "mydict.popitem()\n",
        "print(mydict)"
      ],
      "metadata": {
        "colab": {
          "base_uri": "https://localhost:8080/"
        },
        "id": "F5gvBhxFyFki",
        "outputId": "67b13b58-651a-460c-bbe2-e8b340413f1c"
      },
      "execution_count": 33,
      "outputs": [
        {
          "output_type": "stream",
          "name": "stdout",
          "text": [
            "{'name': 'zia', 'age': 22}\n"
          ]
        }
      ]
    },
    {
      "cell_type": "code",
      "source": [
        "for key in mydict.keys():\n",
        "  print (key)\n",
        "for value in mydict.values():\n",
        "  print(value)\n",
        "for key,value in mydict.items():\n",
        "  print(key,value)\n"
      ],
      "metadata": {
        "colab": {
          "base_uri": "https://localhost:8080/"
        },
        "id": "4do0hKdzy6Uc",
        "outputId": "5d015388-07c4-44fd-8c13-0862397f7fa4"
      },
      "execution_count": 53,
      "outputs": [
        {
          "output_type": "stream",
          "name": "stdout",
          "text": [
            "max\n",
            "12\n",
            "max 12\n"
          ]
        }
      ]
    },
    {
      "cell_type": "code",
      "source": [
        "mydict2 = dict(name='faiz', age=17,email='fazi@gmail')\n",
        "print(mydict2)\n",
        "print(mydict)\n",
        "mydict.update(mydict2)\n",
        "print(mydict)"
      ],
      "metadata": {
        "colab": {
          "base_uri": "https://localhost:8080/"
        },
        "id": "fv-QADkdz1AJ",
        "outputId": "2e3c75c1-5f14-49c1-e7e8-caf527dca147"
      },
      "execution_count": 61,
      "outputs": [
        {
          "output_type": "stream",
          "name": "stdout",
          "text": [
            "{'name': 'faiz', 'age': 17, 'email': 'fazi@gmail'}\n",
            "{('max', 'zain'): 12}\n",
            "{('max', 'zain'): 12, 'name': 'faiz', 'age': 17, 'email': 'fazi@gmail'}\n"
          ]
        }
      ]
    },
    {
      "cell_type": "code",
      "source": [
        "name_tup= 'max','zain'\n",
        "print(type(name_tup))\n",
        "mydict={name_tup:12}\n",
        "mydict"
      ],
      "metadata": {
        "colab": {
          "base_uri": "https://localhost:8080/"
        },
        "id": "Df3H32NU34LJ",
        "outputId": "59d981ac-aa8f-4dab-c730-df4cfb1498e0"
      },
      "execution_count": 60,
      "outputs": [
        {
          "output_type": "stream",
          "name": "stdout",
          "text": [
            "<class 'tuple'>\n"
          ]
        },
        {
          "output_type": "execute_result",
          "data": {
            "text/plain": [
              "{('max', 'zain'): 12}"
            ]
          },
          "metadata": {},
          "execution_count": 60
        }
      ]
    },
    {
      "cell_type": "markdown",
      "source": [
        "**SETS**"
      ],
      "metadata": {
        "id": "XqRgCLe7-b3G"
      }
    },
    {
      "cell_type": "code",
      "source": [
        "myset = set('hello')\n",
        "myset2 =set(['h','e','l','l','o'])\n",
        "notmyset= set([1,2,3,'zia'])\n",
        "print(type(myset))\n",
        "print(type(notmyset))\n",
        "print(myset)\n",
        "print(myset2)"
      ],
      "metadata": {
        "colab": {
          "base_uri": "https://localhost:8080/"
        },
        "id": "IvSbPqvp81YK",
        "outputId": "e9cfe97f-286a-413a-a6ec-220ed5015513"
      },
      "execution_count": 69,
      "outputs": [
        {
          "output_type": "stream",
          "name": "stdout",
          "text": [
            "<class 'set'>\n",
            "<class 'set'>\n",
            "{'l', 'h', 'e', 'o'}\n",
            "{'l', 'h', 'e', 'o'}\n"
          ]
        }
      ]
    },
    {
      "cell_type": "code",
      "source": [
        "myset.add(1)\n",
        "print(myset)\n",
        "myset.discard(1)\n",
        "print(myset)\n",
        "myset.add(1)\n",
        "print(myset)\n",
        "myset.pop()\n",
        "print(myset)"
      ],
      "metadata": {
        "colab": {
          "base_uri": "https://localhost:8080/"
        },
        "id": "vl8PFDb2_mka",
        "outputId": "8d127aa1-9eca-4e44-f019-47688c0548e2"
      },
      "execution_count": 71,
      "outputs": [
        {
          "output_type": "stream",
          "name": "stdout",
          "text": [
            "{1, 'l', 'e', 'o', 'h'}\n",
            "{'l', 'e', 'o', 'h'}\n",
            "{1, 'l', 'e', 'o', 'h'}\n",
            "{'l', 'e', 'o', 'h'}\n"
          ]
        }
      ]
    },
    {
      "cell_type": "code",
      "source": [
        "try:\n",
        "  if 'l' in myset:\n",
        "    print('noops')\n",
        "except:\n",
        "  print('oops')"
      ],
      "metadata": {
        "colab": {
          "base_uri": "https://localhost:8080/"
        },
        "id": "TiqO-iEiB0wS",
        "outputId": "7488f44b-392a-4e4b-d322-6465a2c2331e"
      },
      "execution_count": 74,
      "outputs": [
        {
          "output_type": "stream",
          "name": "stdout",
          "text": [
            "noops\n"
          ]
        }
      ]
    },
    {
      "cell_type": "code",
      "source": [
        "odds={1,3,5,7,9}\n",
        "evens={2,4,6,8}\n",
        "prime={2,3,5,7}\n",
        "\n",
        "\n",
        "unions=evens.union(odds)\n",
        "print(unions)\n",
        "inter= evens.intersection(prime)\n",
        "print(inter)\n",
        "diff=odds.difference(prime)\n",
        "print(diff)\n",
        "sym_diff=odds.symmetric_difference(prime)\n",
        "print(sym_diff)"
      ],
      "metadata": {
        "colab": {
          "base_uri": "https://localhost:8080/"
        },
        "id": "6FTeFKbvEF8t",
        "outputId": "e79a7c11-1934-424d-deba-b27647e6271c"
      },
      "execution_count": 77,
      "outputs": [
        {
          "output_type": "stream",
          "name": "stdout",
          "text": [
            "{1, 2, 3, 4, 5, 6, 7, 8, 9}\n",
            "{2}\n",
            "{1, 9}\n",
            "{1, 2, 9}\n"
          ]
        }
      ]
    },
    {
      "cell_type": "code",
      "source": [
        "all= set()\n",
        "all"
      ],
      "metadata": {
        "colab": {
          "base_uri": "https://localhost:8080/"
        },
        "id": "NIxSxxdxFBvs",
        "outputId": "b75bc366-8f86-4de9-d41f-5bd4a11e973d"
      },
      "execution_count": 80,
      "outputs": [
        {
          "output_type": "execute_result",
          "data": {
            "text/plain": [
              "set()"
            ]
          },
          "metadata": {},
          "execution_count": 80
        }
      ]
    },
    {
      "cell_type": "code",
      "source": [
        "all.update(odds)\n",
        "print(all)\n",
        "all.update(evens)\n",
        "print(all)\n",
        "all.intersection_update(prime)\n",
        "print(all)"
      ],
      "metadata": {
        "colab": {
          "base_uri": "https://localhost:8080/"
        },
        "id": "nlHxCbTLHfIM",
        "outputId": "b8b66953-fc91-4902-dd49-feeaa0c10896"
      },
      "execution_count": 87,
      "outputs": [
        {
          "output_type": "stream",
          "name": "stdout",
          "text": [
            "{1, 2, 3, 4, 5, 6, 7, 8, 9}\n",
            "{1, 2, 3, 4, 5, 6, 7, 8, 9}\n",
            "{2, 3, 5, 7}\n"
          ]
        }
      ]
    },
    {
      "cell_type": "code",
      "source": [
        "all.update(odds)\n",
        "print(all)\n",
        "all.update(evens)\n",
        "print(all)\n",
        "\n",
        "print(all.issubset(evens))\n",
        "print(all.issuperset(evens))"
      ],
      "metadata": {
        "colab": {
          "base_uri": "https://localhost:8080/"
        },
        "id": "U_MUFLU2HtMR",
        "outputId": "4df96a1a-8e81-47df-9f79-40db28bead24"
      },
      "execution_count": 88,
      "outputs": [
        {
          "output_type": "stream",
          "name": "stdout",
          "text": [
            "{1, 2, 3, 5, 7, 9}\n",
            "{1, 2, 3, 4, 5, 6, 7, 8, 9}\n",
            "False\n",
            "True\n"
          ]
        }
      ]
    },
    {
      "cell_type": "markdown",
      "source": [
        "**STRINGS**"
      ],
      "metadata": {
        "id": "InmS_bq1VUpi"
      }
    },
    {
      "cell_type": "code",
      "source": [
        "my_strings=\"\"\"     hello zia\"\"\"\n",
        "\n",
        "print(my_strings)\n",
        "my_strings=my_strings.strip()\n",
        "print(my_strings)\n",
        "print(my_strings[0::2])\n",
        "my_strings=my_strings.strip()\n",
        "print(my_strings)\n",
        "my_strings=my_strings.upper()\n",
        "print(my_strings)\n",
        "my_strings=my_strings.lower()\n",
        "print(my_strings)\n"
      ],
      "metadata": {
        "colab": {
          "base_uri": "https://localhost:8080/"
        },
        "id": "p7pN6g8fIzdb",
        "outputId": "afcd51b3-de36-49e3-b5da-f0f8657f398b"
      },
      "execution_count": 106,
      "outputs": [
        {
          "output_type": "stream",
          "name": "stdout",
          "text": [
            "     hello zia\n",
            "hello zia\n",
            "hloza\n",
            "hello zia\n",
            "HELLO ZIA\n",
            "hello zia\n"
          ]
        }
      ]
    },
    {
      "cell_type": "code",
      "source": [
        "print(my_strings.startswith('hell'))\n",
        "print(my_strings.endswith('za'))\n",
        "print(my_strings.find('he'))\n",
        "print(my_strings.count('l'))\n",
        "print(my_strings.replace('hello','heaven'))\n",
        "\n",
        "\n"
      ],
      "metadata": {
        "colab": {
          "base_uri": "https://localhost:8080/"
        },
        "id": "JDZSoZZhWTmz",
        "outputId": "d99dd817-e7d0-4e33-a0da-dc29c9df2396"
      },
      "execution_count": 122,
      "outputs": [
        {
          "output_type": "stream",
          "name": "stdout",
          "text": [
            "True\n",
            "False\n",
            "0\n",
            "2\n",
            "heaven zia\n"
          ]
        }
      ]
    },
    {
      "cell_type": "code",
      "source": [
        "\n",
        "\n",
        "list_to_strirg=my_strings.split()\n",
        "list_to_strirg\n",
        "\n"
      ],
      "metadata": {
        "colab": {
          "base_uri": "https://localhost:8080/"
        },
        "id": "VfzTH_PIcOv7",
        "outputId": "e1d5287b-ec4c-4e26-cea7-6e02615c98bc"
      },
      "execution_count": 125,
      "outputs": [
        {
          "output_type": "execute_result",
          "data": {
            "text/plain": [
              "['hello', 'zia']"
            ]
          },
          "metadata": {},
          "execution_count": 125
        }
      ]
    },
    {
      "cell_type": "code",
      "source": [
        "new_string= ' '.join(list_to_strirg)\n",
        "new_string"
      ],
      "metadata": {
        "colab": {
          "base_uri": "https://localhost:8080/",
          "height": 35
        },
        "id": "MkhaO33UhPRB",
        "outputId": "6c600249-448f-4142-c20e-12751953ac3f"
      },
      "execution_count": 130,
      "outputs": [
        {
          "output_type": "execute_result",
          "data": {
            "text/plain": [
              "'hello zia'"
            ],
            "application/vnd.google.colaboratory.intrinsic+json": {
              "type": "string"
            }
          },
          "metadata": {},
          "execution_count": 130
        }
      ]
    },
    {
      "cell_type": "code",
      "source": [
        "var1 ='zia'\n",
        "var2= 3.1432\n",
        "m_string= f\"the vaiable is {var1} and with value {var2*2} \"\n",
        "print(m_string)"
      ],
      "metadata": {
        "colab": {
          "base_uri": "https://localhost:8080/"
        },
        "id": "rrzYrewqiCmr",
        "outputId": "59b28b32-1eac-4a0d-8f93-39d88b19defc"
      },
      "execution_count": 136,
      "outputs": [
        {
          "output_type": "stream",
          "name": "stdout",
          "text": [
            "the vaiable is zia and with value 6.2864 \n"
          ]
        }
      ]
    },
    {
      "cell_type": "code",
      "source": [],
      "metadata": {
        "id": "Jk5_PUhqoDjT"
      },
      "execution_count": null,
      "outputs": []
    }
  ]
}